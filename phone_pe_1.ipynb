{
 "cells": [
  {
   "cell_type": "code",
   "execution_count": 1,
   "metadata": {},
   "outputs": [],
   "source": [
    "import pandas as pd\n",
    "import mysql.connector as db\n",
    "import plotly.graph_objects as go\n",
    "import plotly.express as px\n",
    "import requests\n",
    "import json"
   ]
  },
  {
   "cell_type": "code",
   "execution_count": 2,
   "metadata": {},
   "outputs": [],
   "source": [
    "#DataFrame Creation\n",
    "\n",
    "#MySQL Connection\n",
    "mydb = db.connect(\n",
    "    host=\"localhost\",\n",
    "    port=\"3306\",\n",
    "    user=\"root\",\n",
    "    password=\"GovaMoni@Kanali26\",\n",
    "    database=\"phonepe_project\")\n",
    "mycursor = mydb.cursor()\n",
    "\n",
    "#aggre_insurance_df\n",
    "mycursor.execute(\"\"\"SELECT * FROM aggregated_insurance\"\"\")\n",
    "#mydb.commit()\n",
    "table1 = mycursor.fetchall()\n",
    "\n",
    "Aggre_insurance = pd.DataFrame(table1, columns = (\"States\", \"Years\", \"Quarter\", \"Insurance_type\", \"Insurance_count\",\"Insurance_amount\"))\n",
    "\n",
    "#aggre_transaction_df\n",
    "mycursor.execute(\"\"\"SELECT * FROM aggregated_transaction\"\"\")\n",
    "#mydb.commit()\n",
    "table2 = mycursor.fetchall()\n",
    "\n",
    "Aggre_transaction = pd.DataFrame(table2, columns = (\"States\", \"Years\", \"Quarter\", \"Transaction_type\", \"Transaction_count\",\"Transaction_amount\"))\n",
    "\n",
    "\n",
    "#aggre_user_df\n",
    "mycursor.execute(\"\"\"SELECT * FROM aggregated_user\"\"\")\n",
    "#mydb.commit()\n",
    "table3 = mycursor.fetchall()\n",
    "\n",
    "Aggre_user = pd.DataFrame(table3, columns = (\"States\", \"Years\", \"Quarter\", \"Brands\", \"Transaction_count\",\"Percentage\"))\n",
    "\n",
    "\n",
    "#map_insurance_df\n",
    "mycursor.execute(\"\"\"SELECT * FROM map_insurance\"\"\")\n",
    "#mydb.commit()\n",
    "table4 = mycursor.fetchall()\n",
    "\n",
    "Map_insurance = pd.DataFrame(table4, columns = (\"States\", \"Years\", \"Quarter\", \"District\", \"Transaction_count\",\"Transaction_amount\"))\n",
    "\n",
    "\n",
    "#map_transaction_df\n",
    "mycursor.execute(\"\"\"SELECT * FROM map_transaction\"\"\")\n",
    "#mydb.commit()\n",
    "table5 = mycursor.fetchall()\n",
    "\n",
    "Map_transaction = pd.DataFrame(table5, columns = (\"States\", \"Years\", \"Quarter\", \"District\", \"Transaction_count\",\"Transaction_amount\"))\n",
    "\n",
    "\n",
    "#map_user_df\n",
    "mycursor.execute(\"\"\"SELECT * FROM map_user\"\"\")\n",
    "#mydb.commit()\n",
    "table6 = mycursor.fetchall()\n",
    "\n",
    "Map_user = pd.DataFrame(table6, columns = (\"States\", \"Years\", \"Quarter\", \"District\", \"Registered_Users\",\"App_Opens\"))\n",
    "\n",
    "\n",
    "#top_insurance_df\n",
    "mycursor.execute(\"\"\"SELECT * FROM top_insurance\"\"\")\n",
    "#mydb.commit()\n",
    "table7 = mycursor.fetchall()\n",
    "\n",
    "Top_insurance = pd.DataFrame(table7, columns = (\"States\", \"Years\", \"Quarter\", \"Pincodes\", \"Transaction_count\",\"Transaction_amount\"))\n",
    "\n",
    "\n",
    "#top_transaction_df\n",
    "mycursor.execute(\"\"\"SELECT * FROM top_transaction\"\"\")\n",
    "#mydb.commit()\n",
    "table8 = mycursor.fetchall()\n",
    "\n",
    "Top_transaction = pd.DataFrame(table8, columns = (\"States\", \"Years\", \"Quarter\", \"Pincodes\", \"Transaction_count\",\"Transaction_amount\"))\n",
    "\n",
    "\n",
    "#top_user_df\n",
    "mycursor.execute(\"\"\"SELECT * FROM top_user\"\"\")\n",
    "#mydb.commit()\n",
    "table9 = mycursor.fetchall()\n",
    "\n",
    "Top_user = pd.DataFrame(table9, columns = (\"States\", \"Years\", \"Quarter\", \"Pincodes\", \"Registered_Users\"))"
   ]
  },
  {
   "cell_type": "code",
   "execution_count": 35,
   "metadata": {},
   "outputs": [],
   "source": [
    "#TOP CHART\n",
    "\n",
    "def top_chart_transaction_amount(table_name):\n",
    "\n",
    "    #MySQL Connection\n",
    "    mydb = db.connect(\n",
    "        host=\"localhost\",\n",
    "        port=\"3306\",\n",
    "        user=\"root\",\n",
    "        password=\"GovaMoni@Kanali26\",\n",
    "        database=\"phonepe_project\")\n",
    "    mycursor = mydb.cursor()\n",
    "\n",
    "    #Plot_1\n",
    "    query1 = f'''SELECT States, SUM(Transaction_amount) AS Transaction_amount\n",
    "                FROM {table_name}\n",
    "                GROUP BY States\n",
    "                ORDER BY Transaction_amount desc\n",
    "                LIMIT 10;'''\n",
    "    mycursor.execute(query1)\n",
    "    table1 = mycursor.fetchall()\n",
    "    mydb.commit()\n",
    "\n",
    "    df_1 = pd.DataFrame(table1, columns=(\"States\", \"Transaction_amount\"))\n",
    "\n",
    "    fig_amt1 = px.bar(df_1, x=\"States\", y=\"Transaction_amount\", title=\"TRANSACTION AMOUNT\", hover_name=\"States\",\n",
    "                    color_discrete_sequence=px.colors.sequential.Aggrnyl, height= 650,width= 600)\n",
    "    fig_amt1.show()\n",
    "\n",
    "    #Plot_2\n",
    "    query2 = f'''SELECT States, SUM(Transaction_amount) AS Transaction_amount\n",
    "                FROM {table_name}\n",
    "                GROUP BY States\n",
    "                ORDER BY Transaction_amount\n",
    "                LIMIT 10;'''\n",
    "    mycursor.execute(query2)\n",
    "    table2 = mycursor.fetchall()\n",
    "    mydb.commit()\n",
    "\n",
    "    df_2 = pd.DataFrame(table2, columns=(\"States\", \"Transaction_amount\"))\n",
    "\n",
    "    fig_amt2 = px.bar(df_2, x=\"States\", y=\"Transaction_amount\", title=\"TRANSACTION AMOUNT\", hover_name=\"States\",\n",
    "                    color_discrete_sequence=px.colors.sequential.Aggrnyl_r, height= 650,width= 600)\n",
    "    fig_amt2.show()\n",
    "\n",
    "\n",
    "    #Plot_3\n",
    "    query3 = f'''SELECT States, AVG(Transaction_amount) AS Transaction_amount\n",
    "                FROM {table_name}\n",
    "                GROUP BY States\n",
    "                ORDER BY Transaction_amount;'''\n",
    "    mycursor.execute(query3)\n",
    "    table3 = mycursor.fetchall()\n",
    "    mydb.commit()\n",
    "\n",
    "    df_3 = pd.DataFrame(table3, columns=(\"States\", \"Transaction_amount\"))\n",
    "\n",
    "    fig_amt3 = px.bar(df_3, x=\"Transaction_amount\", y=\"States\", title=\"TRANSACTION AMOUNT\", hover_name=\"States\", orientation=\"h\",\n",
    "                    color_discrete_sequence=px.colors.sequential.Blackbody_r, height= 650,width= 600)\n",
    "    fig_amt3.show()"
   ]
  },
  {
   "cell_type": "code",
   "execution_count": null,
   "metadata": {},
   "outputs": [],
   "source": [
    "top_chart_transaction_amount(\"aggregated_transaction\")"
   ]
  },
  {
   "cell_type": "code",
   "execution_count": 37,
   "metadata": {},
   "outputs": [],
   "source": [
    "def top_chart_transaction_count(table_name):\n",
    "\n",
    "    #MySQL Connection\n",
    "    mydb = db.connect(\n",
    "        host=\"localhost\",\n",
    "        port=\"3306\",\n",
    "        user=\"root\",\n",
    "        password=\"GovaMoni@Kanali26\",\n",
    "        database=\"phonepe_project\")\n",
    "    mycursor = mydb.cursor()\n",
    "\n",
    "    #Plot_1\n",
    "    query1 = f'''SELECT States, SUM(Transaction_count) AS Transaction_count\n",
    "                FROM {table_name}\n",
    "                GROUP BY States\n",
    "                ORDER BY Transaction_count desc\n",
    "                LIMIT 10;'''\n",
    "    mycursor.execute(query1)\n",
    "    table1 = mycursor.fetchall()\n",
    "    mydb.commit()\n",
    "\n",
    "    df_1 = pd.DataFrame(table1, columns=(\"States\", \"Transaction_count\"))\n",
    "\n",
    "    fig_amt1 = px.bar(df_1, x=\"States\", y=\"Transaction_count\", title=\"TRANSACTION COUNT\", hover_name=\"States\",\n",
    "                    color_discrete_sequence=px.colors.sequential.Aggrnyl, height= 650,width= 600)\n",
    "    fig_amt1.show()\n",
    "\n",
    "    #Plot_2\n",
    "    query2 = f'''SELECT States, SUM(Transaction_count) AS Transaction_count\n",
    "                FROM {table_name}\n",
    "                GROUP BY States\n",
    "                ORDER BY Transaction_count\n",
    "                LIMIT 10;'''\n",
    "    mycursor.execute(query2)\n",
    "    table2 = mycursor.fetchall()\n",
    "    mydb.commit()\n",
    "\n",
    "    df_2 = pd.DataFrame(table2, columns=(\"States\", \"Transaction_count\"))\n",
    "\n",
    "    fig_amt2 = px.bar(df_2, x=\"States\", y=\"Transaction_count\", title=\"TRANSACTION COUNT\", hover_name=\"States\",\n",
    "                    color_discrete_sequence=px.colors.sequential.Aggrnyl_r, height= 650,width= 600)\n",
    "    fig_amt2.show()\n",
    "\n",
    "\n",
    "    #Plot_3\n",
    "    query3 = f'''SELECT States, AVG(Transaction_count) AS Transaction_count\n",
    "                FROM {table_name}\n",
    "                GROUP BY States\n",
    "                ORDER BY Transaction_count;'''\n",
    "    mycursor.execute(query3)\n",
    "    table3 = mycursor.fetchall()\n",
    "    mydb.commit()\n",
    "\n",
    "    df_3 = pd.DataFrame(table3, columns=(\"States\", \"Transaction_count\"))\n",
    "\n",
    "    fig_amt3 = px.bar(df_3, x=\"Transaction_count\", y=\"States\", title=\"TRANSACTION COUNT\", hover_name=\"States\", orientation=\"h\",\n",
    "                    color_discrete_sequence=px.colors.sequential.Blackbody_r, height= 650,width= 600)\n",
    "    fig_amt3.show()"
   ]
  },
  {
   "cell_type": "code",
   "execution_count": null,
   "metadata": {},
   "outputs": [],
   "source": [
    "top_chart_transaction_count(\"aggregated_user\")"
   ]
  },
  {
   "cell_type": "code",
   "execution_count": 41,
   "metadata": {},
   "outputs": [],
   "source": [
    "def top_chart_registered_users(table_name, state):\n",
    "\n",
    "    #MySQL Connection\n",
    "    mydb = db.connect(\n",
    "        host=\"localhost\",\n",
    "        port=\"3306\",\n",
    "        user=\"root\",\n",
    "        password=\"GovaMoni@Kanali26\",\n",
    "        database=\"phonepe_project\")\n",
    "    mycursor = mydb.cursor()\n",
    "\n",
    "    #Plot_1\n",
    "    query1 = f'''SELECT District, SUM(Registered_Users) AS Registered_Users\n",
    "                    FROM {table_name}\n",
    "                    WHERE States = '{state}'\n",
    "                    GROUP BY District\n",
    "                    ORDER BY Registered_Users DESC\n",
    "                    LIMIT 10;'''\n",
    "    mycursor.execute(query1)\n",
    "    table1 = mycursor.fetchall()\n",
    "    mydb.commit()\n",
    "\n",
    "    df_1 = pd.DataFrame(table1, columns=(\"District\", \"Registered_Users\"))\n",
    "\n",
    "    fig_amt1 = px.bar(df_1, x=\"District\", y=\"Registered_Users\", title=\"TOP 10 OF REGISTERED USERS\", hover_name=\"District\",\n",
    "                    color_discrete_sequence=px.colors.sequential.Aggrnyl, height= 650,width= 600)\n",
    "    fig_amt1.show()\n",
    "\n",
    "    #Plot_2\n",
    "    query2 = f'''SELECT District, SUM(Registered_Users) AS Registered_Users\n",
    "                    FROM {table_name}\n",
    "                    WHERE States = '{state}'\n",
    "                    GROUP BY District\n",
    "                    ORDER BY Registered_Users\n",
    "                    LIMIT 10;'''\n",
    "    mycursor.execute(query2)\n",
    "    table2 = mycursor.fetchall()\n",
    "    mydb.commit()\n",
    "\n",
    "    df_2 = pd.DataFrame(table2, columns=(\"District\", \"Registered_Users\"))\n",
    "\n",
    "    fig_amt2 = px.bar(df_2, x=\"District\", y=\"Registered_Users\", title=\"LAST 10 OF REGISTERED USERS\", hover_name=\"District\",\n",
    "                    color_discrete_sequence=px.colors.sequential.Aggrnyl_r, height= 650,width= 600)\n",
    "    fig_amt2.show()\n",
    "\n",
    "\n",
    "    #Plot_3\n",
    "    query3 = f'''SELECT District, AVG(Registered_Users) AS Registered_Users\n",
    "                    FROM {table_name}\n",
    "                    WHERE States = '{state}'\n",
    "                    GROUP BY District\n",
    "                    ORDER BY Registered_Users;'''\n",
    "    mycursor.execute(query3)\n",
    "    table3 = mycursor.fetchall()\n",
    "    mydb.commit()\n",
    "\n",
    "    df_3 = pd.DataFrame(table3, columns=(\"District\", \"Registered_Users\"))\n",
    "\n",
    "    fig_amt3 = px.bar(df_3, x=\"Registered_Users\", y=\"District\", title=\"AVERAGE OF REGISTERED USERS\", hover_name=\"District\", orientation=\"h\",\n",
    "                    color_discrete_sequence=px.colors.sequential.Blackbody_r, height= 650,width= 600)\n",
    "    fig_amt3.show()"
   ]
  },
  {
   "cell_type": "code",
   "execution_count": null,
   "metadata": {},
   "outputs": [],
   "source": [
    "top_chart_registered_users(\"map_user\", \"Tamil Nadu\")"
   ]
  },
  {
   "cell_type": "code",
   "execution_count": 44,
   "metadata": {},
   "outputs": [],
   "source": [
    "def top_chart_app_opens(table_name, state):\n",
    "\n",
    "    #MySQL Connection\n",
    "    mydb = db.connect(\n",
    "        host=\"localhost\",\n",
    "        port=\"3306\",\n",
    "        user=\"root\",\n",
    "        password=\"GovaMoni@Kanali26\",\n",
    "        database=\"phonepe_project\")\n",
    "    mycursor = mydb.cursor()\n",
    "\n",
    "    #Plot_1\n",
    "    query1 = f'''SELECT District, SUM(App_Opens) AS App_Opens\n",
    "                    FROM {table_name}\n",
    "                    WHERE States = '{state}'\n",
    "                    GROUP BY District\n",
    "                    ORDER BY App_Opens DESC\n",
    "                    LIMIT 10;'''\n",
    "    mycursor.execute(query1)\n",
    "    table1 = mycursor.fetchall()\n",
    "    mydb.commit()\n",
    "\n",
    "    df_1 = pd.DataFrame(table1, columns=(\"District\", \"App_Opens\"))\n",
    "\n",
    "    fig_amt1 = px.bar(df_1, x=\"District\", y=\"App_Opens\", title=\"TOP 10 OF APP OPENS\", hover_name=\"District\",\n",
    "                    color_discrete_sequence=px.colors.sequential.Aggrnyl, height= 650,width= 600)\n",
    "    fig_amt1.show()\n",
    "\n",
    "    #Plot_2\n",
    "    query2 = f'''SELECT District, SUM(App_Opens) AS App_Opens\n",
    "                    FROM {table_name}\n",
    "                    WHERE States = '{state}'\n",
    "                    GROUP BY District\n",
    "                    ORDER BY App_Opens\n",
    "                    LIMIT 10;'''\n",
    "    mycursor.execute(query2)\n",
    "    table2 = mycursor.fetchall()\n",
    "    mydb.commit()\n",
    "\n",
    "    df_2 = pd.DataFrame(table2, columns=(\"District\", \"App_Opens\"))\n",
    "\n",
    "    fig_amt2 = px.bar(df_2, x=\"District\", y=\"App_Opens\", title=\"LAST 10 OF APP OPENS\", hover_name=\"District\",\n",
    "                    color_discrete_sequence=px.colors.sequential.Aggrnyl_r, height= 650,width= 600)\n",
    "    fig_amt2.show()\n",
    "\n",
    "\n",
    "    #Plot_3\n",
    "    query3 = f'''SELECT District, AVG(App_Opens) AS App_Opens\n",
    "                    FROM {table_name}\n",
    "                    WHERE States = '{state}'\n",
    "                    GROUP BY District\n",
    "                    ORDER BY App_Opens;'''\n",
    "    mycursor.execute(query3)\n",
    "    table3 = mycursor.fetchall()\n",
    "    mydb.commit()\n",
    "\n",
    "    df_3 = pd.DataFrame(table3, columns=(\"District\", \"App_Opens\"))\n",
    "\n",
    "    fig_amt3 = px.bar(df_3, x=\"App_Opens\", y=\"District\", title=\"AVERAGE OF APP OPENS\", hover_name=\"District\", orientation=\"h\",\n",
    "                    color_discrete_sequence=px.colors.sequential.Blackbody_r, height= 650,width= 600)\n",
    "    fig_amt3.show()"
   ]
  },
  {
   "cell_type": "code",
   "execution_count": null,
   "metadata": {},
   "outputs": [],
   "source": [
    "top_chart_app_opens(\"map_user\", \"Tamil Nadu\")"
   ]
  },
  {
   "cell_type": "code",
   "execution_count": 49,
   "metadata": {},
   "outputs": [],
   "source": [
    "def top_chart_registered_users(table_name):\n",
    "\n",
    "    #MySQL Connection\n",
    "    mydb = db.connect(\n",
    "        host=\"localhost\",\n",
    "        port=\"3306\",\n",
    "        user=\"root\",\n",
    "        password=\"GovaMoni@Kanali26\",\n",
    "        database=\"phonepe_project\")\n",
    "    mycursor = mydb.cursor()\n",
    "\n",
    "    #Plot_1\n",
    "    query1 = f'''SELECT States, SUM(Registered_Users) AS Registered_Users\n",
    "                    FROM {table_name}\n",
    "                    GROUP BY States\n",
    "                    ORDER BY Registered_Users DESC\n",
    "                    LIMIT 10;'''\n",
    "    mycursor.execute(query1)\n",
    "    table1 = mycursor.fetchall()\n",
    "    mydb.commit()\n",
    "\n",
    "    df_1 = pd.DataFrame(table1, columns=(\"States\", \"Registered_Users\"))\n",
    "\n",
    "    fig_amt1 = px.bar(df_1, x=\"States\", y=\"Registered_Users\", title=\"TOP 10 OF REGISTERED USERS\", hover_name=\"States\",\n",
    "                    color_discrete_sequence=px.colors.sequential.Aggrnyl, height= 650,width= 600)\n",
    "    fig_amt1.show()\n",
    "\n",
    "    #Plot_2\n",
    "    query2 = f'''SELECT States, SUM(Registered_Users) AS Registered_Users\n",
    "                    FROM {table_name}\n",
    "                    GROUP BY States\n",
    "                    ORDER BY Registered_Users DESC\n",
    "                    LIMIT 10;'''\n",
    "    mycursor.execute(query2)\n",
    "    table2 = mycursor.fetchall()\n",
    "    mydb.commit()\n",
    "\n",
    "    df_2 = pd.DataFrame(table2, columns=(\"States\", \"Registered_Users\"))\n",
    "\n",
    "    fig_amt2 = px.bar(df_2, x=\"States\", y=\"Registered_Users\", title=\"LAST 10 OF REGISTERED USERS\", hover_name=\"States\",\n",
    "                    color_discrete_sequence=px.colors.sequential.Aggrnyl_r, height= 650,width= 600)\n",
    "    fig_amt2.show()\n",
    "\n",
    "\n",
    "    #Plot_3\n",
    "    query3 = f'''SELECT States, AVG(Registered_Users) AS Registered_Users\n",
    "                    FROM {table_name}\n",
    "                    GROUP BY States\n",
    "                    ORDER BY Registered_Users;'''\n",
    "    mycursor.execute(query3)\n",
    "    table3 = mycursor.fetchall()\n",
    "    mydb.commit()\n",
    "\n",
    "    df_3 = pd.DataFrame(table3, columns=(\"States\", \"Registered_Users\"))\n",
    "\n",
    "    fig_amt3 = px.bar(df_3, x=\"Registered_Users\", y=\"States\", title=\"AVERAGE OF REGISTERED USERS\", hover_name=\"States\", orientation=\"h\",\n",
    "                    color_discrete_sequence=px.colors.sequential.Blackbody_r, height= 650,width= 600)\n",
    "    fig_amt3.show()"
   ]
  },
  {
   "cell_type": "code",
   "execution_count": null,
   "metadata": {},
   "outputs": [],
   "source": [
    "top_chart_registered_users(\"top_user\")"
   ]
  },
  {
   "cell_type": "code",
   "execution_count": null,
   "metadata": {},
   "outputs": [],
   "source": [
    "Aggre_insurance"
   ]
  },
  {
   "cell_type": "code",
   "execution_count": 3,
   "metadata": {},
   "outputs": [],
   "source": [
    "#Functions for insurance based on year\n",
    "\n",
    "def insurance_amount_count_Y(df, year):#[Tacy & Tacyg is dataframe]\n",
    "    Tacy = df[df[\"Years\"]==year] #Tacy[\"Years\"].unique()\n",
    "    Tacy.reset_index(drop=True, inplace=True)\n",
    "    #Tacy\n",
    "    Tacyg = Tacy.groupby(\"States\")[[\"Insurance_count\", \"Insurance_amount\"]].sum()\n",
    "    Tacyg.reset_index(inplace=True)\n",
    "    #Tacyg\n",
    "\n",
    "\n",
    "    #Plot creation\n",
    "\n",
    "    #INSURANCE AMOUNT\n",
    "    fig_amount = px.bar(Tacyg, x=\"States\", y=\"Insurance_amount\", title=f\"{year} INSURANCE AMOUNT\",\n",
    "                    color_discrete_sequence=px.colors.sequential.Aggrnyl, height= 650,width= 600)\n",
    "    fig_amount.show()\n",
    "\n",
    "\n",
    "    #INSURANCE COUNT\n",
    "    fig_count = px.bar(Tacyg, x=\"States\", y=\"Insurance_count\", title=f\"{year} INSURANCE COUNT\",\n",
    "                    color_discrete_sequence=px.colors.sequential.Bluered_r, height=650, width=600)\n",
    "    fig_count.show()\n",
    "\n",
    "    url =\"https://gist.githubusercontent.com/jbrobst/56c13bbbf9d97d187fea01ca62ea5112/raw/e388c4cae20aa53cb5090210a42ebb9b765c0a36/india_states.geojson\"\n",
    "    response = requests.get(url)\n",
    "    data1 = json.loads(response.content)\n",
    "\n",
    "    states_name = []\n",
    "    for feature in data1[\"features\"]:\n",
    "        states_name.append(feature[\"properties\"][\"ST_NM\"])\n",
    "\n",
    "    states_name.sort()\n",
    "\n",
    "    fig_india_1 = px.choropleth(Tacyg, geojson=data1, locations=\"States\", featureidkey=\"properties.ST_NM\",\n",
    "                                color = \"Insurance_amount\", color_continuous_scale=\"Rainbow\",\n",
    "                                range_color=(Tacyg[\"Insurance_amount\"].min(), Tacyg[\"Insurance_amount\"].max()),\n",
    "                                hover_name=\"States\", title=f\"{year} INSURANCE AMOUNT\", fitbounds=\"locations\", \n",
    "                                height=600, width=600)\n",
    "    \n",
    "    fig_india_1.update_geos(visible=False)\n",
    "    fig_india_1.show()\n",
    "\n",
    "\n",
    "    fig_india_2 = px.choropleth(Tacyg, geojson=data1, locations=\"States\", featureidkey=\"properties.ST_NM\",\n",
    "                            color = \"Insurance_count\", color_continuous_scale=\"Rainbow\",\n",
    "                            range_color=(Tacyg[\"Insurance_count\"].min(), Tacyg[\"Insurance_count\"].max()),\n",
    "                            hover_name=\"States\", title=f\"{year} INSURANCE COUNT\", fitbounds=\"locations\", \n",
    "                            height=600, width=600)\n",
    "\n",
    "    fig_india_2.update_geos(visible=False)\n",
    "    fig_india_2.show()\n",
    "\n",
    "    return Tacy"
   ]
  },
  {
   "cell_type": "code",
   "execution_count": 4,
   "metadata": {},
   "outputs": [],
   "source": [
    "#Functions for insurance based on quarter\n",
    "\n",
    "\n",
    "def insurance_amount_count_Y_Q(df, quarter):#[Tacy & Tacyg is dataframe]\n",
    "    Tacy = df[df[\"Quarter\"]==quarter] #Tacy[\"Years\"].unique()\n",
    "    Tacy.reset_index(drop=True, inplace=True)\n",
    "    #Tacy\n",
    "    Tacyg = Tacy.groupby(\"States\")[[\"Insurance_count\", \"Insurance_amount\"]].sum()\n",
    "    Tacyg.reset_index(inplace=True)\n",
    "    #Tacyg\n",
    "\n",
    "\n",
    "    #Plot creation\n",
    "\n",
    "    #INSURANCE AMOUNT\n",
    "    fig_amount = px.bar(Tacyg, x=\"States\", y=\"Insurance_amount\", title=f\"{Tacy[\"Years\"].min()} YEAR {quarter} QUARTER INSURANCE AMOUNT\",\n",
    "                    color_discrete_sequence=px.colors.sequential.Aggrnyl, height= 650,width= 600)\n",
    "    fig_amount.show()\n",
    "\n",
    "\n",
    "    #INSURANCE COUNT\n",
    "    fig_count = px.bar(Tacyg, x=\"States\", y=\"Insurance_count\", title=f\"{Tacy[\"Years\"].min()} YEAR {quarter} QUARTER INSURANCE COUNT\",\n",
    "                    color_discrete_sequence=px.colors.sequential.Bluered_r, height=650, width=600)\n",
    "    fig_count.show()\n",
    "\n",
    "    url =\"https://gist.githubusercontent.com/jbrobst/56c13bbbf9d97d187fea01ca62ea5112/raw/e388c4cae20aa53cb5090210a42ebb9b765c0a36/india_states.geojson\"\n",
    "    response = requests.get(url)\n",
    "    data1 = json.loads(response.content)\n",
    "\n",
    "    states_name = []\n",
    "    for feature in data1[\"features\"]:\n",
    "        states_name.append(feature[\"properties\"][\"ST_NM\"])\n",
    "\n",
    "    states_name.sort()\n",
    "\n",
    "    fig_india_1 = px.choropleth(Tacyg, geojson=data1, locations=\"States\", featureidkey=\"properties.ST_NM\",\n",
    "                                color = \"Insurance_amount\", color_continuous_scale=\"Rainbow\",\n",
    "                                range_color=(Tacyg[\"Insurance_amount\"].min(), Tacyg[\"Insurance_amount\"].max()),\n",
    "                                hover_name=\"States\", title=f\"{Tacy[\"Years\"].min()} YEAR {quarter} QUARTER INSURANCE AMOUNT\", fitbounds=\"locations\", \n",
    "                                height=600, width=600)\n",
    "    \n",
    "    fig_india_1.update_geos(visible=False)\n",
    "    fig_india_1.show()\n",
    "\n",
    "\n",
    "    fig_india_2 = px.choropleth(Tacyg, geojson=data1, locations=\"States\", featureidkey=\"properties.ST_NM\",\n",
    "                            color = \"Insurance_count\", color_continuous_scale=\"Rainbow\",\n",
    "                            range_color=(Tacyg[\"Insurance_count\"].min(), Tacyg[\"Insurance_count\"].max()),\n",
    "                            hover_name=\"States\", title=f\"{Tacy[\"Years\"].min()} YEAR {quarter} QUARTER INSURANCE COUNT\", fitbounds=\"locations\", \n",
    "                            height=600, width=600)\n",
    "\n",
    "    fig_india_2.update_geos(visible=False)\n",
    "    fig_india_2.show()"
   ]
  },
  {
   "cell_type": "code",
   "execution_count": 5,
   "metadata": {},
   "outputs": [],
   "source": [
    "#Functions for transaction based on year\n",
    "\n",
    "def transaction_amount_count_Y(df, year):#[Tacy & Tacyg is dataframe]\n",
    "    Tacy = df[df[\"Years\"]==year] #Tacy[\"Years\"].unique()\n",
    "    Tacy.reset_index(drop=True, inplace=True)\n",
    "    #Tacy\n",
    "    Tacyg = Tacy.groupby(\"States\")[[\"Transaction_count\", \"Transaction_amount\"]].sum()\n",
    "    Tacyg.reset_index(inplace=True)\n",
    "    #Tacyg\n",
    "\n",
    "\n",
    "    #Plot creation\n",
    "\n",
    "    #TRANSACTION AMOUNT\n",
    "    fig_amount = px.bar(Tacyg, x=\"States\", y=\"Transaction_amount\", title=f\"{year} TRANSACTION AMOUNT\",\n",
    "                    color_discrete_sequence=px.colors.sequential.Aggrnyl, height= 650,width= 600)\n",
    "    fig_amount.show()\n",
    "\n",
    "\n",
    "    #TRANSACTION COUNT\n",
    "    fig_count = px.bar(Tacyg, x=\"States\", y=\"Transaction_count\", title=f\"{year} TRANSACTION COUNT\",\n",
    "                    color_discrete_sequence=px.colors.sequential.Bluered_r, height=650, width=600)\n",
    "    fig_count.show()\n",
    "\n",
    "    url =\"https://gist.githubusercontent.com/jbrobst/56c13bbbf9d97d187fea01ca62ea5112/raw/e388c4cae20aa53cb5090210a42ebb9b765c0a36/india_states.geojson\"\n",
    "    response = requests.get(url)\n",
    "    data1 = json.loads(response.content)\n",
    "\n",
    "    states_name = []\n",
    "    for feature in data1[\"features\"]:\n",
    "        states_name.append(feature[\"properties\"][\"ST_NM\"])\n",
    "\n",
    "    states_name.sort()\n",
    "\n",
    "    fig_india_1 = px.choropleth(Tacyg, geojson=data1, locations=\"States\", featureidkey=\"properties.ST_NM\",\n",
    "                                color = \"Transaction_amount\", color_continuous_scale=\"Rainbow\",\n",
    "                                range_color=(Tacyg[\"Transaction_amount\"].min(), Tacyg[\"Transaction_amount\"].max()),\n",
    "                                hover_name=\"States\", title=f\"{year} TRANSACTION AMOUNT\", fitbounds=\"locations\", \n",
    "                                height=600, width=600)\n",
    "    \n",
    "    fig_india_1.update_geos(visible=False)\n",
    "    fig_india_1.show()\n",
    "\n",
    "\n",
    "    fig_india_2 = px.choropleth(Tacyg, geojson=data1, locations=\"States\", featureidkey=\"properties.ST_NM\",\n",
    "                            color = \"Transaction_count\", color_continuous_scale=\"Rainbow\",\n",
    "                            range_color=(Tacyg[\"Transaction_count\"].min(), Tacyg[\"Transaction_count\"].max()),\n",
    "                            hover_name=\"States\", title=f\"{year} TRANSACTION COUNT\", fitbounds=\"locations\", \n",
    "                            height=600, width=600)\n",
    "\n",
    "    fig_india_2.update_geos(visible=False)\n",
    "    fig_india_2.show()\n",
    "\n",
    "    return Tacy"
   ]
  },
  {
   "cell_type": "code",
   "execution_count": 6,
   "metadata": {},
   "outputs": [],
   "source": [
    "#Functions for insurance based on quarter\n",
    "\n",
    "def transaction_amount_count_Y_Q(df, quarter):\n",
    "    Tacy = df[df[\"Quarter\"]==quarter] \n",
    "    Tacy.reset_index(drop=True, inplace=True)\n",
    "    Tacyg = Tacy.groupby(\"States\")[[\"Transaction_count\", \"Transaction_amount\"]].sum()\n",
    "    Tacyg.reset_index(inplace=True)\n",
    "\n",
    "\n",
    "    #Plot creation\n",
    "    #TRANSACTION AMOUNT\n",
    "    fig_amount = px.bar(Tacyg, x=\"States\", y=\"Transaction_amount\", title=f\"{Tacy[\"Years\"].min()} YEAR {quarter} QUARTER TRANSACTION AMOUNT\",\n",
    "                    color_discrete_sequence=px.colors.sequential.Aggrnyl, height= 650,width= 600)\n",
    "    fig_amount.show()\n",
    "\n",
    "\n",
    "    #TRANSACTION COUNT\n",
    "    fig_count = px.bar(Tacyg, x=\"States\", y=\"Transaction_count\", title=f\"{Tacy[\"Years\"].min()} YEAR {quarter} QUARTER TRANSACTION COUNT\",\n",
    "                    color_discrete_sequence=px.colors.sequential.Bluered_r, height=650, width=600)\n",
    "    fig_count.show()\n",
    "\n",
    "    url =\"https://gist.githubusercontent.com/jbrobst/56c13bbbf9d97d187fea01ca62ea5112/raw/e388c4cae20aa53cb5090210a42ebb9b765c0a36/india_states.geojson\"\n",
    "    response = requests.get(url)\n",
    "    data1 = json.loads(response.content)\n",
    "\n",
    "    states_name = []\n",
    "    for feature in data1[\"features\"]:\n",
    "        states_name.append(feature[\"properties\"][\"ST_NM\"])\n",
    "\n",
    "    states_name.sort()\n",
    "\n",
    "    fig_india_1 = px.choropleth(Tacyg, geojson=data1, locations=\"States\", featureidkey=\"properties.ST_NM\",\n",
    "                                color = \"Transaction_amount\", color_continuous_scale=\"Rainbow\",\n",
    "                                range_color=(Tacyg[\"Transaction_amount\"].min(), Tacyg[\"Transaction_amount\"].max()),\n",
    "                                hover_name=\"States\", title=f\"{Tacy[\"Years\"].min()} YEAR {quarter} QUARTER TRANSACTION AMOUNT\", fitbounds=\"locations\", \n",
    "                                height=600, width=600)\n",
    "    \n",
    "    fig_india_1.update_geos(visible=False)\n",
    "    fig_india_1.show()\n",
    "\n",
    "\n",
    "    fig_india_2 = px.choropleth(Tacyg, geojson=data1, locations=\"States\", featureidkey=\"properties.ST_NM\",\n",
    "                            color = \"Transaction_count\", color_continuous_scale=\"Rainbow\",\n",
    "                            range_color=(Tacyg[\"Transaction_count\"].min(), Tacyg[\"Transaction_count\"].max()),\n",
    "                            hover_name=\"States\", title=f\"{Tacy[\"Years\"].min()} YEAR {quarter} QUARTER TRANSACTION COUNT\", fitbounds=\"locations\", \n",
    "                            height=600, width=600)\n",
    "\n",
    "    fig_india_2.update_geos(visible=False)\n",
    "    fig_india_2.show()"
   ]
  },
  {
   "cell_type": "code",
   "execution_count": 7,
   "metadata": {},
   "outputs": [],
   "source": [
    "#Functions for transaction type\n",
    "\n",
    "def aggre_trans_type(df, state):\n",
    "    Tacy = df[df[\"States\"]== state]\n",
    "    Tacy.reset_index(drop=True, inplace=True)\n",
    "\n",
    "    Tacyg = Tacy.groupby(\"Transaction_type\")[[\"Transaction_count\", \"Transaction_amount\"]].sum()\n",
    "    Tacyg.reset_index(inplace=True)\n",
    "\n",
    "    fig_pie_1 = px.pie(data_frame= Tacyg, names=\"Transaction_type\", values= \"Transaction_amount\", width=600, title= f\"{state.upper()} TRANSACTION_AMOUNT\", hole=0.5)\n",
    "    fig_pie_1.show()\n",
    "\n",
    "    fig_pie_2 = px.pie(data_frame= Tacyg, names=\"Transaction_type\", values= \"Transaction_count\", width=600, title= f\"{state.upper()} TRANSACTION_COUNT\", hole=0.5)\n",
    "    fig_pie_2.show()\n"
   ]
  },
  {
   "cell_type": "code",
   "execution_count": 8,
   "metadata": {},
   "outputs": [],
   "source": [
    "#Aggree_User_analysis_1\n",
    "def Aggre_user_plot_1(df, year):\n",
    "    aguy = df[df[\"Years\"] == year]\n",
    "    aguy.reset_index(drop = True, inplace= True)\n",
    "\n",
    "    aguyg = aguy.groupby(\"Brands\")[[\"Transaction_count\"]].sum()\n",
    "    aguyg.reset_index(inplace=True)\n",
    "\n",
    "    fig_bar_1 = px.bar(aguyg, x=\"Brands\", y=\"Transaction_count\", title=f\"{year} BRANDS AND TRANSACTION_COUNT\", width=800,\n",
    "                       color_discrete_sequence=px.colors.sequential.haline_r, hover_name=\"Brands\")\n",
    "    fig_bar_1.show\n",
    "\n",
    "    return aguy"
   ]
  },
  {
   "cell_type": "code",
   "execution_count": 9,
   "metadata": {},
   "outputs": [],
   "source": [
    "#Aggregated_user_analysis_2\n",
    "def Aggre_user_plot_2(df, quarter):\n",
    "    aguyq = df[df[\"Quarter\"] == quarter]\n",
    "    aguyq.reset_index(drop = True, inplace= True)\n",
    "\n",
    "\n",
    "    aguyqg = aguyq.groupby(\"Brands\")[[\"Transaction_count\"]].sum()\n",
    "    aguyqg.reset_index(inplace=True)\n",
    "\n",
    "    fig_bar_2 = px.bar(aguyqg, x=\"Brands\", y=\"Transaction_count\", title=f\"{quarter} QUARTER, BRANDS AND TRANSACTION_COUNT\", width=800,\n",
    "                        color_discrete_sequence=px.colors.sequential.haline_r, hover_name=\"Brands\")\n",
    "    fig_bar_2.show()\n",
    "\n",
    "    return aguyq"
   ]
  },
  {
   "cell_type": "code",
   "execution_count": 10,
   "metadata": {},
   "outputs": [],
   "source": [
    "#Aggregated_User_Analysis_3\n",
    "def Aggre_user_plot_3(df, state):\n",
    "    auyqs = df[df[\"States\"] == state]\n",
    "    auyqs.reset_index(drop=True, inplace=True)\n",
    "\n",
    "    fig_line_1 = px.line(auyqs, x=\"Brands\", y=\"Transaction_count\", hover_data=\"Percentage\", title=f\"{state.upper()} BRANDS_TRANSACTION COUNT_PERCENTAGE\", width=1000, markers=True)\n",
    "    fig_line_1.show()"
   ]
  },
  {
   "cell_type": "code",
   "execution_count": 11,
   "metadata": {},
   "outputs": [],
   "source": [
    "#Map_Insurance_District\n",
    "def map_insur_District(df, state):\n",
    "    mid = df[df[\"States\"]== state]\n",
    "    mid.reset_index(drop=True, inplace=True)\n",
    "\n",
    "    midg = mid.groupby(\"District\")[[\"Transaction_count\", \"Transaction_amount\"]].sum()\n",
    "    midg.reset_index(inplace=True)\n",
    "\n",
    "    fig_bar_1 = px.bar(midg, x=\"Transaction_amount\", y= \"District\", orientation=\"h\", title= f\"{state.upper()} DISTRICT AND TRANSACTION_AMOUNT\",\n",
    "                       color_discrete_sequence=px.colors.sequential.Mint_r)\n",
    "    fig_bar_1.show()\n",
    "\n",
    "    fig_bar_2 = px.bar(midg, x=\"Transaction_count\", y= \"District\", orientation=\"h\", title= f\"{state.upper()} DISTRICT AND TRANSACTION_COUNT\",\n",
    "                       color_discrete_sequence=px.colors.sequential.Bluered_r)\n",
    "    fig_bar_2.show()"
   ]
  },
  {
   "cell_type": "code",
   "execution_count": 12,
   "metadata": {},
   "outputs": [],
   "source": [
    "#Map_User_analysis_1\n",
    "def map_user_plot_1(df, year):\n",
    "    muy = df[df[\"Years\"] == year]\n",
    "    muy.reset_index(drop = True, inplace= True)\n",
    "    muyg = muy.groupby(\"States\")[[\"Registered_Users\", \"App_Opens\"]].sum()\n",
    "    muyg.reset_index(inplace=True)\n",
    "\n",
    "    fig_line_1 = px.line(muyg, x=\"States\", y=[\"Registered_Users\", \"App_Opens\"], title= f\"{year} REGISTERED_USERS, APP_OPENS\", width=1000, height=800, markers= True)\n",
    "    fig_line_1.show()\n",
    "\n",
    "    return muy"
   ]
  },
  {
   "cell_type": "code",
   "execution_count": 13,
   "metadata": {},
   "outputs": [],
   "source": [
    "#Map_User_analysis_2\n",
    "def map_user_plot_2(df, quarter):\n",
    "    muyq = df[df[\"Quarter\"] == quarter]\n",
    "    muyq.reset_index(drop = True, inplace= True)\n",
    "    muyqg = muyq.groupby(\"States\")[[\"Registered_Users\", \"App_Opens\"]].sum()\n",
    "    muyqg.reset_index(inplace=True)\n",
    "\n",
    "    fig_line_1 = px.line(muyqg, x=\"States\", y=[\"Registered_Users\", \"App_Opens\"], title= f\"{df['Years'].min()} YEAR {quarter} QUARTER REGISTERED_USERS, APP_OPENS\",\n",
    "                         width=1000, height=800, markers= True, color_discrete_sequence=px.colors.sequential.Rainbow_r)\n",
    "    fig_line_1.show()\n",
    "\n",
    "    return muyq"
   ]
  },
  {
   "cell_type": "code",
   "execution_count": 14,
   "metadata": {},
   "outputs": [],
   "source": [
    "#Map_user_analysis_3\n",
    "def map_user_plot_3(df, states):\n",
    "    muyqs = df[df[\"States\"] == states]\n",
    "    muyqs.reset_index(drop = True, inplace= True)\n",
    "\n",
    "    fig_map_user_bar_1 = px.bar(muyqs, x=\"Registered_Users\", y=\"District\", orientation=\"h\", title= \"REGISTERED_USERS\", height=800,\n",
    "                                color_discrete_sequence=px.colors.sequential.Rainbow_r)\n",
    "    fig_map_user_bar_1.show()\n",
    "\n",
    "\n",
    "    fig_map_user_bar_2 = px.bar(muyqs, x=\"App_Opens\", y=\"District\", orientation=\"h\", title= \"APP_OPENS\", height=800,\n",
    "                                color_discrete_sequence=px.colors.sequential.Rainbow)\n",
    "    fig_map_user_bar_2.show()"
   ]
  },
  {
   "cell_type": "code",
   "execution_count": 15,
   "metadata": {},
   "outputs": [],
   "source": [
    "#Top Insurance analysis\n",
    "def top_ins_plot_1(df, state):\n",
    "    tiy = df[df[\"States\"] == state]\n",
    "    tiy.reset_index(drop = True, inplace= True)\n",
    "\n",
    "    fig_top_ins_bar_1 = px.bar(tiy, x=\"Quarter\", y=\"Transaction_amount\", hover_data=\"Pincodes\", title= \"TRANSACTION AMOUNT\", height=800,\n",
    "                                color_discrete_sequence=px.colors.sequential.deep_r)\n",
    "    fig_top_ins_bar_1.show()\n",
    "\n",
    "    fig_top_ins_bar_2 = px.bar(tiy, x=\"Quarter\", y=\"Transaction_count\", hover_data=\"Pincodes\", title= \"TRANSACTION COUNT\", height=800,\n",
    "                                color_discrete_sequence=px.colors.sequential._r)\n",
    "    fig_top_ins_bar_2.show()"
   ]
  },
  {
   "cell_type": "code",
   "execution_count": 16,
   "metadata": {},
   "outputs": [],
   "source": [
    "#Top user analysis_1\n",
    "def top_user_plot_1(df, year):\n",
    "    tuy = df[df[\"Years\"] == year]\n",
    "    tuy.reset_index(drop = True, inplace= True)\n",
    "\n",
    "    tuyg = tuy.groupby([\"States\", \"Quarter\"])[[\"Registered_Users\"]].sum()\n",
    "    tuyg.reset_index(inplace=True)\n",
    "\n",
    "    fig_top_user_bar_1=px.bar(tuyg, x=\"States\", y=\"Registered_Users\", color=\"Quarter\", width=1000, height=800,\n",
    "                            color_discrete_sequence= px.colors.sequential.Burgyl, hover_name=\"States\", title= f\"{year} REGISTERED USERS\")\n",
    "    fig_top_user_bar_1.show()\n",
    "\n",
    "    return tuy"
   ]
  },
  {
   "cell_type": "code",
   "execution_count": 17,
   "metadata": {},
   "outputs": [],
   "source": [
    "#Top user analysis_2\n",
    "def top_user_plot_2(df, state):\n",
    "    tuys = df[df[\"States\"]==state]\n",
    "    tuys.reset_index(drop=True, inplace=True)\n",
    "\n",
    "\n",
    "    fig_top_user_bar_2 = px.bar(tuys, x=\"Quarter\", y=\"Registered_Users\", title=f\"{state} REGISTERED_USERS, PINCODES, QUARTER\", width=1000, height=800, hover_data=\"Pincodes\",\n",
    "                                color=\"Registered_Users\", color_continuous_scale=px.colors.sequential.Bluered_r)\n",
    "    fig_top_user_bar_2.show()"
   ]
  },
  {
   "cell_type": "markdown",
   "metadata": {},
   "source": [
    "### Aggregated Insurance"
   ]
  },
  {
   "cell_type": "code",
   "execution_count": null,
   "metadata": {},
   "outputs": [],
   "source": [
    "tac_Y = transaction_amount_count_Y(Aggre_transaction, 2023)"
   ]
  },
  {
   "cell_type": "markdown",
   "metadata": {},
   "source": [
    "### Aggregated Transaction"
   ]
  },
  {
   "cell_type": "code",
   "execution_count": null,
   "metadata": {},
   "outputs": [],
   "source": [
    "aggree_tran_tac_Y = transaction_amount_count_Y(Aggre_transaction, \"Tamil Nadu\")"
   ]
  },
  {
   "cell_type": "markdown",
   "metadata": {},
   "source": [
    "### Aggregated User"
   ]
  },
  {
   "cell_type": "code",
   "execution_count": null,
   "metadata": {},
   "outputs": [],
   "source": [
    "Aggre_user_Y=Aggre_user_plot_1(Aggre_user, 2022)\n",
    "Aggre_user_Y"
   ]
  },
  {
   "cell_type": "code",
   "execution_count": null,
   "metadata": {},
   "outputs": [],
   "source": [
    "Aggre_user_Y_Q = Aggre_user_plot_2(Aggre_user_Y, 2)"
   ]
  },
  {
   "cell_type": "code",
   "execution_count": null,
   "metadata": {},
   "outputs": [],
   "source": [
    "Aggre_user_plot_3(Aggre_user_Y_Q, \"Tamil Nadu\")"
   ]
  },
  {
   "cell_type": "markdown",
   "metadata": {},
   "source": [
    "### MAP INSURANCE"
   ]
  },
  {
   "cell_type": "code",
   "execution_count": null,
   "metadata": {},
   "outputs": [],
   "source": [
    "M_Ins_Y = transaction_amount_count_Y(Map_insurance, 2023)"
   ]
  },
  {
   "cell_type": "code",
   "execution_count": null,
   "metadata": {},
   "outputs": [],
   "source": [
    "map_insur_District(M_Ins_Y, \"West Bengal\")"
   ]
  },
  {
   "cell_type": "code",
   "execution_count": null,
   "metadata": {},
   "outputs": [],
   "source": [
    "M_Ins_Y_Q=transaction_amount_count_Y_Q(M_Ins_Y, 3)"
   ]
  },
  {
   "cell_type": "code",
   "execution_count": null,
   "metadata": {},
   "outputs": [],
   "source": [
    "map_insur_District(M_Ins_Y_Q, \"West Bengal\")"
   ]
  },
  {
   "cell_type": "markdown",
   "metadata": {},
   "source": [
    "### Map Transaction"
   ]
  },
  {
   "cell_type": "code",
   "execution_count": null,
   "metadata": {},
   "outputs": [],
   "source": [
    "M_Tran_Y = transaction_amount_count_Y(Map_transaction, 2023)"
   ]
  },
  {
   "cell_type": "code",
   "execution_count": null,
   "metadata": {},
   "outputs": [],
   "source": [
    "map_insur_District(M_Tran_Y, \"West Bengal\")"
   ]
  },
  {
   "cell_type": "code",
   "execution_count": null,
   "metadata": {},
   "outputs": [],
   "source": [
    "M_Tran_Y_Q=transaction_amount_count_Y_Q(M_Tran_Y, 3)"
   ]
  },
  {
   "cell_type": "code",
   "execution_count": null,
   "metadata": {},
   "outputs": [],
   "source": [
    "map_insur_District(M_Tran_Y_Q, \"West Bengal\")"
   ]
  },
  {
   "cell_type": "markdown",
   "metadata": {},
   "source": [
    "### Map User"
   ]
  },
  {
   "cell_type": "code",
   "execution_count": null,
   "metadata": {},
   "outputs": [],
   "source": [
    "map_user_Y=map_user_plot_1(Map_user, 2021)\n",
    "map_user_Y"
   ]
  },
  {
   "cell_type": "code",
   "execution_count": null,
   "metadata": {},
   "outputs": [],
   "source": [
    "map_user_Y_Q=map_user_plot_2(map_user_Y, 3)"
   ]
  },
  {
   "cell_type": "code",
   "execution_count": null,
   "metadata": {},
   "outputs": [],
   "source": [
    "map_user_plot_3(map_user_Y_Q, \"Tamil Nadu\")"
   ]
  },
  {
   "cell_type": "markdown",
   "metadata": {},
   "source": [
    "### TOP INSURANCE"
   ]
  },
  {
   "cell_type": "code",
   "execution_count": null,
   "metadata": {},
   "outputs": [],
   "source": [
    "T_Ins_Y = transaction_amount_count_Y(Top_insurance, 2023)"
   ]
  },
  {
   "cell_type": "code",
   "execution_count": null,
   "metadata": {},
   "outputs": [],
   "source": [
    "top_ins_plot_1(T_Ins_Y, \"West Bengal\")"
   ]
  },
  {
   "cell_type": "code",
   "execution_count": null,
   "metadata": {},
   "outputs": [],
   "source": [
    "T_Ins_Y_Q=transaction_amount_count_Y_Q(T_Ins_Y, 3)"
   ]
  },
  {
   "cell_type": "markdown",
   "metadata": {},
   "source": [
    "### Top Transaction"
   ]
  },
  {
   "cell_type": "code",
   "execution_count": null,
   "metadata": {},
   "outputs": [],
   "source": [
    "T_Tran_Y = transaction_amount_count_Y(Top_transaction, 2023)"
   ]
  },
  {
   "cell_type": "code",
   "execution_count": null,
   "metadata": {},
   "outputs": [],
   "source": [
    "top_ins_plot_1(T_Tran_Y, \"West Bengal\")"
   ]
  },
  {
   "cell_type": "code",
   "execution_count": null,
   "metadata": {},
   "outputs": [],
   "source": [
    "T_Tran_Y_Q=transaction_amount_count_Y_Q(T_Tran_Y, 3)"
   ]
  },
  {
   "cell_type": "markdown",
   "metadata": {},
   "source": [
    "### TOP USER"
   ]
  },
  {
   "cell_type": "code",
   "execution_count": null,
   "metadata": {},
   "outputs": [],
   "source": [
    "top_user_Y = top_user_plot_1(Top_user, 2021)"
   ]
  },
  {
   "cell_type": "code",
   "execution_count": null,
   "metadata": {},
   "outputs": [],
   "source": [
    "top_user_plot_2(top_user_Y, \"Tamil Nadu\")"
   ]
  }
 ],
 "metadata": {
  "kernelspec": {
   "display_name": "venv",
   "language": "python",
   "name": "python3"
  },
  "language_info": {
   "codemirror_mode": {
    "name": "ipython",
    "version": 3
   },
   "file_extension": ".py",
   "mimetype": "text/x-python",
   "name": "python",
   "nbconvert_exporter": "python",
   "pygments_lexer": "ipython3",
   "version": "3.12.1"
  }
 },
 "nbformat": 4,
 "nbformat_minor": 2
}
